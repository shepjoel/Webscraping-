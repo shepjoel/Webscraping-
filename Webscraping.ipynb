{
 "cells": [
  {
   "cell_type": "code",
   "execution_count": null,
   "id": "646ba441",
   "metadata": {},
   "outputs": [],
   "source": [
    "\n",
    "from bs4 import BeautifulSoup\n",
    "import urllib.request\n",
    "import csv\n",
    "urlpage = 'https://fr.wikipedia.org/wiki/Liste_des_pays_par_population'\n",
    "\n",
    "page = urllib.request.urlopen(urlpage)\n",
    "#on met dans soup le contenu html\n",
    "soup = BeautifulSoup(page, 'html.parser')\n",
    "table = soup.find('table')\n",
    "print(type(table))\n",
    "results = table.find_all('tr')\n",
    "print('Number of results', len(results))\n",
    "fichier = open(\"pays.txt\", \"w\")    \n",
    "#dans l'article, le nom est dans une balise H3\n",
    "\n",
    "for result in results :\n",
    "    for i in range(2,len(results)):\n",
    "          info = results[i].find_all('td')\n",
    "          for infos in info:\n",
    "                nom = infos.getText()\n",
    "                fichier.write(nom + \";\") "
   ]
  },
  {
   "cell_type": "code",
   "execution_count": null,
   "id": "a6060f01",
   "metadata": {},
   "outputs": [],
   "source": [
    "\n",
    "from bs4 import BeautifulSoup\n",
    "import pandas as pd\n",
    "import requests\n",
    "\n",
    "\n",
    "\n",
    "#Extraction des données pays + population de wikipédia\n",
    "url = 'https://fr.wikipedia.org/wiki/Liste_des_pays_par_population'\n",
    "response = requests.get(url)\n",
    "soup = BeautifulSoup(response.text)\n",
    "data = soup.find_all('table')[0]\n",
    "df = pd.read_html(str(data))[0]\n",
    "del df['Population au 1er juillet 2021']\n",
    "del df['Rang (2021)']\n",
    "df.head()\n"
   ]
  },
  {
   "cell_type": "code",
   "execution_count": null,
   "id": "9ef5540c",
   "metadata": {},
   "outputs": [],
   "source": [
    "\n",
    "#importation de ascii_letters pour nettoyer le dataframe\n",
    "import string\n",
    "string.ascii_letters\n",
    "'abcdefghijklmnopqrstuvwxyz'\n",
    "alpha=list(string.ascii_lowercase)\n",
    "v=list(string.ascii_letters)\n",
    "print([v[1]])"
   ]
  },
  {
   "cell_type": "code",
   "execution_count": null,
   "id": "3a15b119",
   "metadata": {},
   "outputs": [],
   "source": [
    "\n",
    "#Création d'une liste ou les crochets seront supprimées\n",
    "liste=[]\n",
    "liste1=[]\n",
    "for x in df['Pays ou territoire'] :\n",
    "    for i in x:\n",
    "        for j in range(len(v)):\n",
    "                x= x.replace(\"[\" +v[j] + \"]\",\" \")\n",
    "    liste.append(x)\n",
    "#print(liste)\n"
   ]
  },
  {
   "cell_type": "code",
   "execution_count": null,
   "id": "0d79a89b",
   "metadata": {},
   "outputs": [],
   "source": [
    "\n",
    "#Remplaçement des valeurs de la colonne pays du dataframe par celles de la liste\n",
    "for i in range (len(liste)):\n",
    "    y=df['Pays ou territoire']==liste\n",
    "    if y[i]== False:\n",
    "        df['Pays ou territoire'][i]= liste[i]\n"
   ]
  },
  {
   "cell_type": "code",
   "execution_count": null,
   "id": "712e955b",
   "metadata": {},
   "outputs": [],
   "source": [
    "\n",
    "df.head()\n"
   ]
  },
  {
   "cell_type": "code",
   "execution_count": null,
   "id": "5025ea5f",
   "metadata": {},
   "outputs": [],
   "source": [
    "\n",
    "#écriture de notre dataframe dans un fichier texte\n",
    "df.to_csv(r\"pays.txt\",sep= \";\" ,index = None, header = False)\n",
    "\n"
   ]
  },
  {
   "cell_type": "code",
   "execution_count": null,
   "id": "f7ac9596",
   "metadata": {},
   "outputs": [],
   "source": [
    "\n",
    "#Extraction des données pays + pib de wikipédia\n",
    "urlpage = 'https://fr.wikipedia.org/wiki/Liste_des_pays_par_PIB_nominal'\n",
    "response = requests.get(urlpage)\n",
    "soup = BeautifulSoup(response.text)\n",
    "data = soup.find_all('table')[0]\n",
    "df2 = pd.read_html(str(data))[0]\n",
    "df2.head()"
   ]
  },
  {
   "cell_type": "code",
   "execution_count": null,
   "id": "5cbbd026",
   "metadata": {},
   "outputs": [],
   "source": [
    "\n",
    "#importation de ascii_letters et création d'une liste pour nettoyer le dataframe\n",
    "import string\n",
    "string.ascii_letters\n",
    "'abcdefghijklmnopqrstuvwxyz'\n",
    "alpha=list(string.ascii_lowercase)\n",
    "v=list(string.ascii_letters)\n",
    "p=[1,2,3,4,5,6,7,8,9,10]"
   ]
  },
  {
   "cell_type": "code",
   "execution_count": null,
   "id": "7d3e20e0",
   "metadata": {},
   "outputs": [],
   "source": [
    "#Création d'une liste ou les crochets seront supprimées\n",
    "liste=[]\n",
    "liste1=[]\n",
    "for x in df2['Pays ou territoire'] :\n",
    "    for i in x:\n",
    "        for j in range(len(v)):\n",
    "            for r in range(len(p)):\n",
    "                x= x.replace(\"[\" +v[j] + \"]\",\" \")\n",
    "    liste.append(x)\n",
    "for x in liste:\n",
    "    for i in x:\n",
    "        for j in range(len(p)):\n",
    "             x= x.replace(\"[\"+ str(p[j])+\"]\",\" \")\n",
    "    liste1.append(x)\n",
    "#print(liste1)"
   ]
  },
  {
   "cell_type": "code",
   "execution_count": null,
   "id": "ab951775",
   "metadata": {},
   "outputs": [],
   "source": [
    "\n",
    "#Remplaçement des valeurs de la colonne pays du dataframe par celles de la liste\n",
    "for i in range (len(liste1)):\n",
    "    y=df2['Pays ou territoire']==liste1\n",
    "    if y[i]== False:\n",
    "        df2['Pays ou territoire'][i]= liste1[i]\n",
    "        "
   ]
  },
  {
   "cell_type": "code",
   "execution_count": null,
   "id": "ebcb20f6",
   "metadata": {},
   "outputs": [],
   "source": [
    "\n",
    "df2.head()"
   ]
  },
  {
   "cell_type": "code",
   "execution_count": null,
   "id": "584707c7",
   "metadata": {},
   "outputs": [],
   "source": [
    "\n",
    "#écriture de notre dataframe dans un fichier texte\n",
    "df2.to_csv(r\"pib.txt\",sep= \";\" ,index = None, header = False)\n",
    "\n"
   ]
  },
  {
   "cell_type": "code",
   "execution_count": null,
   "id": "7fa9aee3",
   "metadata": {},
   "outputs": [],
   "source": [
    "\n",
    "import sqlite3\n",
    "import io\n",
    "#ouverture des fichiers texte\n",
    "fich = open(\"pays.txt\", \"r\")\n",
    "fi= open(\"pib.txt\", \"r\")\n",
    "lignes = fich.readlines()\n",
    "lines = fi.readlines()\n",
    "#connexion à la base de données\n",
    "connec = sqlite3.connect('jean.sqlite3')\n",
    "curseu = connec.cursor()\n",
    "#Création des tables\n",
    "#curseu.execute(\"create TABLE pay( pays str,popu int)\")\n",
    "#curseu.execute(\"CREATE TABLE pib( rang int,pays str, pib int)\")\n",
    "#Ecriture des données dans les tables\n",
    "for ligne in lignes:\n",
    "    element = ligne.split(\";\")\n",
    "    curseu.execute(\"INSERT INTO pay VALUES(?,?)\", element)\n",
    "connec.commit()\n",
    "for line in lines:\n",
    "    elements = line.split(\";\")\n",
    "    curseu.execute(\"INSERT INTO pib VALUES(?,?,?)\", elements)\n",
    "connec.commit()\n"
   ]
  },
  {
   "cell_type": "code",
   "execution_count": null,
   "id": "e0067492",
   "metadata": {},
   "outputs": [],
   "source": [
    "\n",
    "import sqlite3\n",
    "#Connexion à la base de données\n",
    "connec = sqlite3.connect('jean.sqlite3')\n",
    "curseu = connec.cursor()\n",
    "#Jointure des deux tables\n",
    "curseu.execute(\"SELECT pay.pays, pay.popu , pib.pib FROM pay JOIN pib ON pay.pays = pib.pays \")\n",
    "fichier = open(\"exo.txt\", \"w\", encoding= \"UTF-8\")\n",
    "#Ecriture du résultat de la jointure dans un fichier texte\n",
    "valeurs = curseu.fetchall()\n",
    "for v in valeurs:\n",
    "     fichier.write(f\"{v}\\n\")\n",
    "connec.close()\n"
   ]
  },
  {
   "cell_type": "code",
   "execution_count": null,
   "id": "b140b2b1",
   "metadata": {},
   "outputs": [],
   "source": [
    "\n",
    "import unidecode\n",
    "fich = open(\"web.txt\", \"w\")\n",
    "fichier = open(\"exo.txt\", \"r\")\n",
    "lines = fichier.readlines()\n",
    "for line in lines:\n",
    "    line = str.replace(line,r\"\\xa0\" , '' )\n",
    "    fich.write(line)\n",
    "    print(line)\n"
   ]
  },
  {
   "cell_type": "code",
   "execution_count": null,
   "id": "e2c4530f",
   "metadata": {},
   "outputs": [],
   "source": [
    "\n",
    "fich = open(\"webscraping.txt\", \"w\")\n",
    "fichier = open(\"web.txt\", \"r\")\n",
    "lines = fichier.readlines()\n",
    "for line in lines:\n",
    "    line = str.replace(line,r\"\\n\" , '' )\n",
    "    fich.write(line)\n",
    "    print(line)"
   ]
  },
  {
   "cell_type": "code",
   "execution_count": null,
   "id": "c783ae38",
   "metadata": {},
   "outputs": [],
   "source": [
    "\n",
    "import openpyxl\n",
    "fichier = open(\"exo.txt\", \"r\")\n",
    "#la variable “classeur”\n",
    "classeur = openpyxl.Workbook()\n",
    " \n",
    "#sauvegarde d’un fichier \n",
    "classeur.save('test.xlsx')\n",
    " \n",
    "#Ouverture d’un fichier\n",
    "classeur =openpyxl.load_workbook('test.xlsx')\n",
    "\n",
    "feuille = classeur[classeur.sheetnames[0]]\n",
    "lignes = fichier.readlines()\n",
    "for i in range(1,len(lignes)):\n",
    "        feuille.cell(i,1).value = lignes[i]\n",
    "classeur.save('test.xlsx')\n",
    "classeur.close"
   ]
  },
  {
   "cell_type": "code",
   "execution_count": null,
   "id": "03251667",
   "metadata": {},
   "outputs": [],
   "source": []
  }
 ],
 "metadata": {
  "kernelspec": {
   "display_name": "Python 3 (ipykernel)",
   "language": "python",
   "name": "python3"
  },
  "language_info": {
   "codemirror_mode": {
    "name": "ipython",
    "version": 3
   },
   "file_extension": ".py",
   "mimetype": "text/x-python",
   "name": "python",
   "nbconvert_exporter": "python",
   "pygments_lexer": "ipython3",
   "version": "3.9.12"
  }
 },
 "nbformat": 4,
 "nbformat_minor": 5
}
